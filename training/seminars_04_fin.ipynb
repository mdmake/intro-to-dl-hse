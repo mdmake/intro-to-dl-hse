{
  "nbformat": 4,
  "nbformat_minor": 0,
  "metadata": {
    "colab": {
      "provenance": [],
      "gpuType": "T4",
      "authorship_tag": "ABX9TyN9fpJwag/JWsmbBX5jXrHD",
      "include_colab_link": true
    },
    "kernelspec": {
      "name": "python3",
      "display_name": "Python 3"
    },
    "language_info": {
      "name": "python"
    },
    "accelerator": "GPU",
    "widgets": {
      "application/vnd.jupyter.widget-state+json": {
        "b17d6c75fc5b454db2da2af477efb235": {
          "model_module": "@jupyter-widgets/controls",
          "model_name": "HBoxModel",
          "model_module_version": "1.5.0",
          "state": {
            "_dom_classes": [],
            "_model_module": "@jupyter-widgets/controls",
            "_model_module_version": "1.5.0",
            "_model_name": "HBoxModel",
            "_view_count": null,
            "_view_module": "@jupyter-widgets/controls",
            "_view_module_version": "1.5.0",
            "_view_name": "HBoxView",
            "box_style": "",
            "children": [
              "IPY_MODEL_e9cb03f64e7c47e3a4fd5ca79f0e7fa2",
              "IPY_MODEL_2c61c99c58b44e8390a50f768146d31e",
              "IPY_MODEL_d9545bf2625a442eb3bd3005d7ad9484"
            ],
            "layout": "IPY_MODEL_2dc2430e3211483592637e342ccf0090"
          }
        },
        "e9cb03f64e7c47e3a4fd5ca79f0e7fa2": {
          "model_module": "@jupyter-widgets/controls",
          "model_name": "HTMLModel",
          "model_module_version": "1.5.0",
          "state": {
            "_dom_classes": [],
            "_model_module": "@jupyter-widgets/controls",
            "_model_module_version": "1.5.0",
            "_model_name": "HTMLModel",
            "_view_count": null,
            "_view_module": "@jupyter-widgets/controls",
            "_view_module_version": "1.5.0",
            "_view_name": "HTMLView",
            "description": "",
            "description_tooltip": null,
            "layout": "IPY_MODEL_4116678dce27474e8482e5917bdd3d39",
            "placeholder": "​",
            "style": "IPY_MODEL_fb0f02ec62164f0c8fedbe36432e2584",
            "value": "100%"
          }
        },
        "2c61c99c58b44e8390a50f768146d31e": {
          "model_module": "@jupyter-widgets/controls",
          "model_name": "FloatProgressModel",
          "model_module_version": "1.5.0",
          "state": {
            "_dom_classes": [],
            "_model_module": "@jupyter-widgets/controls",
            "_model_module_version": "1.5.0",
            "_model_name": "FloatProgressModel",
            "_view_count": null,
            "_view_module": "@jupyter-widgets/controls",
            "_view_module_version": "1.5.0",
            "_view_name": "ProgressView",
            "bar_style": "success",
            "description": "",
            "description_tooltip": null,
            "layout": "IPY_MODEL_cf8d9b66f50147988876c5b78a2c2a0d",
            "max": 150,
            "min": 0,
            "orientation": "horizontal",
            "style": "IPY_MODEL_65ede1f8e8954bfeb5622695e4d06373",
            "value": 150
          }
        },
        "d9545bf2625a442eb3bd3005d7ad9484": {
          "model_module": "@jupyter-widgets/controls",
          "model_name": "HTMLModel",
          "model_module_version": "1.5.0",
          "state": {
            "_dom_classes": [],
            "_model_module": "@jupyter-widgets/controls",
            "_model_module_version": "1.5.0",
            "_model_name": "HTMLModel",
            "_view_count": null,
            "_view_module": "@jupyter-widgets/controls",
            "_view_module_version": "1.5.0",
            "_view_name": "HTMLView",
            "description": "",
            "description_tooltip": null,
            "layout": "IPY_MODEL_e17b3cf51e384c0da1c16db204eb3419",
            "placeholder": "​",
            "style": "IPY_MODEL_649c60347e2e4297a52b5e5404692928",
            "value": " 150/150 [00:00&lt;00:00, 1571.33it/s]"
          }
        },
        "2dc2430e3211483592637e342ccf0090": {
          "model_module": "@jupyter-widgets/base",
          "model_name": "LayoutModel",
          "model_module_version": "1.2.0",
          "state": {
            "_model_module": "@jupyter-widgets/base",
            "_model_module_version": "1.2.0",
            "_model_name": "LayoutModel",
            "_view_count": null,
            "_view_module": "@jupyter-widgets/base",
            "_view_module_version": "1.2.0",
            "_view_name": "LayoutView",
            "align_content": null,
            "align_items": null,
            "align_self": null,
            "border": null,
            "bottom": null,
            "display": null,
            "flex": null,
            "flex_flow": null,
            "grid_area": null,
            "grid_auto_columns": null,
            "grid_auto_flow": null,
            "grid_auto_rows": null,
            "grid_column": null,
            "grid_gap": null,
            "grid_row": null,
            "grid_template_areas": null,
            "grid_template_columns": null,
            "grid_template_rows": null,
            "height": null,
            "justify_content": null,
            "justify_items": null,
            "left": null,
            "margin": null,
            "max_height": null,
            "max_width": null,
            "min_height": null,
            "min_width": null,
            "object_fit": null,
            "object_position": null,
            "order": null,
            "overflow": null,
            "overflow_x": null,
            "overflow_y": null,
            "padding": null,
            "right": null,
            "top": null,
            "visibility": null,
            "width": null
          }
        },
        "4116678dce27474e8482e5917bdd3d39": {
          "model_module": "@jupyter-widgets/base",
          "model_name": "LayoutModel",
          "model_module_version": "1.2.0",
          "state": {
            "_model_module": "@jupyter-widgets/base",
            "_model_module_version": "1.2.0",
            "_model_name": "LayoutModel",
            "_view_count": null,
            "_view_module": "@jupyter-widgets/base",
            "_view_module_version": "1.2.0",
            "_view_name": "LayoutView",
            "align_content": null,
            "align_items": null,
            "align_self": null,
            "border": null,
            "bottom": null,
            "display": null,
            "flex": null,
            "flex_flow": null,
            "grid_area": null,
            "grid_auto_columns": null,
            "grid_auto_flow": null,
            "grid_auto_rows": null,
            "grid_column": null,
            "grid_gap": null,
            "grid_row": null,
            "grid_template_areas": null,
            "grid_template_columns": null,
            "grid_template_rows": null,
            "height": null,
            "justify_content": null,
            "justify_items": null,
            "left": null,
            "margin": null,
            "max_height": null,
            "max_width": null,
            "min_height": null,
            "min_width": null,
            "object_fit": null,
            "object_position": null,
            "order": null,
            "overflow": null,
            "overflow_x": null,
            "overflow_y": null,
            "padding": null,
            "right": null,
            "top": null,
            "visibility": null,
            "width": null
          }
        },
        "fb0f02ec62164f0c8fedbe36432e2584": {
          "model_module": "@jupyter-widgets/controls",
          "model_name": "DescriptionStyleModel",
          "model_module_version": "1.5.0",
          "state": {
            "_model_module": "@jupyter-widgets/controls",
            "_model_module_version": "1.5.0",
            "_model_name": "DescriptionStyleModel",
            "_view_count": null,
            "_view_module": "@jupyter-widgets/base",
            "_view_module_version": "1.2.0",
            "_view_name": "StyleView",
            "description_width": ""
          }
        },
        "cf8d9b66f50147988876c5b78a2c2a0d": {
          "model_module": "@jupyter-widgets/base",
          "model_name": "LayoutModel",
          "model_module_version": "1.2.0",
          "state": {
            "_model_module": "@jupyter-widgets/base",
            "_model_module_version": "1.2.0",
            "_model_name": "LayoutModel",
            "_view_count": null,
            "_view_module": "@jupyter-widgets/base",
            "_view_module_version": "1.2.0",
            "_view_name": "LayoutView",
            "align_content": null,
            "align_items": null,
            "align_self": null,
            "border": null,
            "bottom": null,
            "display": null,
            "flex": null,
            "flex_flow": null,
            "grid_area": null,
            "grid_auto_columns": null,
            "grid_auto_flow": null,
            "grid_auto_rows": null,
            "grid_column": null,
            "grid_gap": null,
            "grid_row": null,
            "grid_template_areas": null,
            "grid_template_columns": null,
            "grid_template_rows": null,
            "height": null,
            "justify_content": null,
            "justify_items": null,
            "left": null,
            "margin": null,
            "max_height": null,
            "max_width": null,
            "min_height": null,
            "min_width": null,
            "object_fit": null,
            "object_position": null,
            "order": null,
            "overflow": null,
            "overflow_x": null,
            "overflow_y": null,
            "padding": null,
            "right": null,
            "top": null,
            "visibility": null,
            "width": null
          }
        },
        "65ede1f8e8954bfeb5622695e4d06373": {
          "model_module": "@jupyter-widgets/controls",
          "model_name": "ProgressStyleModel",
          "model_module_version": "1.5.0",
          "state": {
            "_model_module": "@jupyter-widgets/controls",
            "_model_module_version": "1.5.0",
            "_model_name": "ProgressStyleModel",
            "_view_count": null,
            "_view_module": "@jupyter-widgets/base",
            "_view_module_version": "1.2.0",
            "_view_name": "StyleView",
            "bar_color": null,
            "description_width": ""
          }
        },
        "e17b3cf51e384c0da1c16db204eb3419": {
          "model_module": "@jupyter-widgets/base",
          "model_name": "LayoutModel",
          "model_module_version": "1.2.0",
          "state": {
            "_model_module": "@jupyter-widgets/base",
            "_model_module_version": "1.2.0",
            "_model_name": "LayoutModel",
            "_view_count": null,
            "_view_module": "@jupyter-widgets/base",
            "_view_module_version": "1.2.0",
            "_view_name": "LayoutView",
            "align_content": null,
            "align_items": null,
            "align_self": null,
            "border": null,
            "bottom": null,
            "display": null,
            "flex": null,
            "flex_flow": null,
            "grid_area": null,
            "grid_auto_columns": null,
            "grid_auto_flow": null,
            "grid_auto_rows": null,
            "grid_column": null,
            "grid_gap": null,
            "grid_row": null,
            "grid_template_areas": null,
            "grid_template_columns": null,
            "grid_template_rows": null,
            "height": null,
            "justify_content": null,
            "justify_items": null,
            "left": null,
            "margin": null,
            "max_height": null,
            "max_width": null,
            "min_height": null,
            "min_width": null,
            "object_fit": null,
            "object_position": null,
            "order": null,
            "overflow": null,
            "overflow_x": null,
            "overflow_y": null,
            "padding": null,
            "right": null,
            "top": null,
            "visibility": null,
            "width": null
          }
        },
        "649c60347e2e4297a52b5e5404692928": {
          "model_module": "@jupyter-widgets/controls",
          "model_name": "DescriptionStyleModel",
          "model_module_version": "1.5.0",
          "state": {
            "_model_module": "@jupyter-widgets/controls",
            "_model_module_version": "1.5.0",
            "_model_name": "DescriptionStyleModel",
            "_view_count": null,
            "_view_module": "@jupyter-widgets/base",
            "_view_module_version": "1.2.0",
            "_view_name": "StyleView",
            "description_width": ""
          }
        },
        "d11c9f77d46a48e6830c35a850046997": {
          "model_module": "@jupyter-widgets/controls",
          "model_name": "HBoxModel",
          "model_module_version": "1.5.0",
          "state": {
            "_dom_classes": [],
            "_model_module": "@jupyter-widgets/controls",
            "_model_module_version": "1.5.0",
            "_model_name": "HBoxModel",
            "_view_count": null,
            "_view_module": "@jupyter-widgets/controls",
            "_view_module_version": "1.5.0",
            "_view_name": "HBoxView",
            "box_style": "",
            "children": [
              "IPY_MODEL_3ec54dab1ad942d1b79bc66bc2701679",
              "IPY_MODEL_e355dfb1b21c4254b759f24575397a47",
              "IPY_MODEL_7818f86f7db140d19c9d05f3892ce471"
            ],
            "layout": "IPY_MODEL_0870e3f4908145b9a34a1cbe64fead80"
          }
        },
        "3ec54dab1ad942d1b79bc66bc2701679": {
          "model_module": "@jupyter-widgets/controls",
          "model_name": "HTMLModel",
          "model_module_version": "1.5.0",
          "state": {
            "_dom_classes": [],
            "_model_module": "@jupyter-widgets/controls",
            "_model_module_version": "1.5.0",
            "_model_name": "HTMLModel",
            "_view_count": null,
            "_view_module": "@jupyter-widgets/controls",
            "_view_module_version": "1.5.0",
            "_view_name": "HTMLView",
            "description": "",
            "description_tooltip": null,
            "layout": "IPY_MODEL_b684d0f495504fcebd4512607bc9594c",
            "placeholder": "​",
            "style": "IPY_MODEL_2d4999e329dc4af3b1c49fdd36f56c5b",
            "value": "100%"
          }
        },
        "e355dfb1b21c4254b759f24575397a47": {
          "model_module": "@jupyter-widgets/controls",
          "model_name": "FloatProgressModel",
          "model_module_version": "1.5.0",
          "state": {
            "_dom_classes": [],
            "_model_module": "@jupyter-widgets/controls",
            "_model_module_version": "1.5.0",
            "_model_name": "FloatProgressModel",
            "_view_count": null,
            "_view_module": "@jupyter-widgets/controls",
            "_view_module_version": "1.5.0",
            "_view_name": "ProgressView",
            "bar_style": "success",
            "description": "",
            "description_tooltip": null,
            "layout": "IPY_MODEL_a99764cf56f94a3bb8ce08dd905ad648",
            "max": 150,
            "min": 0,
            "orientation": "horizontal",
            "style": "IPY_MODEL_7c9e1c1980e44545a4dd01328853b505",
            "value": 150
          }
        },
        "7818f86f7db140d19c9d05f3892ce471": {
          "model_module": "@jupyter-widgets/controls",
          "model_name": "HTMLModel",
          "model_module_version": "1.5.0",
          "state": {
            "_dom_classes": [],
            "_model_module": "@jupyter-widgets/controls",
            "_model_module_version": "1.5.0",
            "_model_name": "HTMLModel",
            "_view_count": null,
            "_view_module": "@jupyter-widgets/controls",
            "_view_module_version": "1.5.0",
            "_view_name": "HTMLView",
            "description": "",
            "description_tooltip": null,
            "layout": "IPY_MODEL_8f67da0521604b8bb1804ea427cf61bb",
            "placeholder": "​",
            "style": "IPY_MODEL_55370c2f9d8146eb9eb1ba12ab743517",
            "value": " 150/150 [00:00&lt;00:00, 1545.27it/s]"
          }
        },
        "0870e3f4908145b9a34a1cbe64fead80": {
          "model_module": "@jupyter-widgets/base",
          "model_name": "LayoutModel",
          "model_module_version": "1.2.0",
          "state": {
            "_model_module": "@jupyter-widgets/base",
            "_model_module_version": "1.2.0",
            "_model_name": "LayoutModel",
            "_view_count": null,
            "_view_module": "@jupyter-widgets/base",
            "_view_module_version": "1.2.0",
            "_view_name": "LayoutView",
            "align_content": null,
            "align_items": null,
            "align_self": null,
            "border": null,
            "bottom": null,
            "display": null,
            "flex": null,
            "flex_flow": null,
            "grid_area": null,
            "grid_auto_columns": null,
            "grid_auto_flow": null,
            "grid_auto_rows": null,
            "grid_column": null,
            "grid_gap": null,
            "grid_row": null,
            "grid_template_areas": null,
            "grid_template_columns": null,
            "grid_template_rows": null,
            "height": null,
            "justify_content": null,
            "justify_items": null,
            "left": null,
            "margin": null,
            "max_height": null,
            "max_width": null,
            "min_height": null,
            "min_width": null,
            "object_fit": null,
            "object_position": null,
            "order": null,
            "overflow": null,
            "overflow_x": null,
            "overflow_y": null,
            "padding": null,
            "right": null,
            "top": null,
            "visibility": null,
            "width": null
          }
        },
        "b684d0f495504fcebd4512607bc9594c": {
          "model_module": "@jupyter-widgets/base",
          "model_name": "LayoutModel",
          "model_module_version": "1.2.0",
          "state": {
            "_model_module": "@jupyter-widgets/base",
            "_model_module_version": "1.2.0",
            "_model_name": "LayoutModel",
            "_view_count": null,
            "_view_module": "@jupyter-widgets/base",
            "_view_module_version": "1.2.0",
            "_view_name": "LayoutView",
            "align_content": null,
            "align_items": null,
            "align_self": null,
            "border": null,
            "bottom": null,
            "display": null,
            "flex": null,
            "flex_flow": null,
            "grid_area": null,
            "grid_auto_columns": null,
            "grid_auto_flow": null,
            "grid_auto_rows": null,
            "grid_column": null,
            "grid_gap": null,
            "grid_row": null,
            "grid_template_areas": null,
            "grid_template_columns": null,
            "grid_template_rows": null,
            "height": null,
            "justify_content": null,
            "justify_items": null,
            "left": null,
            "margin": null,
            "max_height": null,
            "max_width": null,
            "min_height": null,
            "min_width": null,
            "object_fit": null,
            "object_position": null,
            "order": null,
            "overflow": null,
            "overflow_x": null,
            "overflow_y": null,
            "padding": null,
            "right": null,
            "top": null,
            "visibility": null,
            "width": null
          }
        },
        "2d4999e329dc4af3b1c49fdd36f56c5b": {
          "model_module": "@jupyter-widgets/controls",
          "model_name": "DescriptionStyleModel",
          "model_module_version": "1.5.0",
          "state": {
            "_model_module": "@jupyter-widgets/controls",
            "_model_module_version": "1.5.0",
            "_model_name": "DescriptionStyleModel",
            "_view_count": null,
            "_view_module": "@jupyter-widgets/base",
            "_view_module_version": "1.2.0",
            "_view_name": "StyleView",
            "description_width": ""
          }
        },
        "a99764cf56f94a3bb8ce08dd905ad648": {
          "model_module": "@jupyter-widgets/base",
          "model_name": "LayoutModel",
          "model_module_version": "1.2.0",
          "state": {
            "_model_module": "@jupyter-widgets/base",
            "_model_module_version": "1.2.0",
            "_model_name": "LayoutModel",
            "_view_count": null,
            "_view_module": "@jupyter-widgets/base",
            "_view_module_version": "1.2.0",
            "_view_name": "LayoutView",
            "align_content": null,
            "align_items": null,
            "align_self": null,
            "border": null,
            "bottom": null,
            "display": null,
            "flex": null,
            "flex_flow": null,
            "grid_area": null,
            "grid_auto_columns": null,
            "grid_auto_flow": null,
            "grid_auto_rows": null,
            "grid_column": null,
            "grid_gap": null,
            "grid_row": null,
            "grid_template_areas": null,
            "grid_template_columns": null,
            "grid_template_rows": null,
            "height": null,
            "justify_content": null,
            "justify_items": null,
            "left": null,
            "margin": null,
            "max_height": null,
            "max_width": null,
            "min_height": null,
            "min_width": null,
            "object_fit": null,
            "object_position": null,
            "order": null,
            "overflow": null,
            "overflow_x": null,
            "overflow_y": null,
            "padding": null,
            "right": null,
            "top": null,
            "visibility": null,
            "width": null
          }
        },
        "7c9e1c1980e44545a4dd01328853b505": {
          "model_module": "@jupyter-widgets/controls",
          "model_name": "ProgressStyleModel",
          "model_module_version": "1.5.0",
          "state": {
            "_model_module": "@jupyter-widgets/controls",
            "_model_module_version": "1.5.0",
            "_model_name": "ProgressStyleModel",
            "_view_count": null,
            "_view_module": "@jupyter-widgets/base",
            "_view_module_version": "1.2.0",
            "_view_name": "StyleView",
            "bar_color": null,
            "description_width": ""
          }
        },
        "8f67da0521604b8bb1804ea427cf61bb": {
          "model_module": "@jupyter-widgets/base",
          "model_name": "LayoutModel",
          "model_module_version": "1.2.0",
          "state": {
            "_model_module": "@jupyter-widgets/base",
            "_model_module_version": "1.2.0",
            "_model_name": "LayoutModel",
            "_view_count": null,
            "_view_module": "@jupyter-widgets/base",
            "_view_module_version": "1.2.0",
            "_view_name": "LayoutView",
            "align_content": null,
            "align_items": null,
            "align_self": null,
            "border": null,
            "bottom": null,
            "display": null,
            "flex": null,
            "flex_flow": null,
            "grid_area": null,
            "grid_auto_columns": null,
            "grid_auto_flow": null,
            "grid_auto_rows": null,
            "grid_column": null,
            "grid_gap": null,
            "grid_row": null,
            "grid_template_areas": null,
            "grid_template_columns": null,
            "grid_template_rows": null,
            "height": null,
            "justify_content": null,
            "justify_items": null,
            "left": null,
            "margin": null,
            "max_height": null,
            "max_width": null,
            "min_height": null,
            "min_width": null,
            "object_fit": null,
            "object_position": null,
            "order": null,
            "overflow": null,
            "overflow_x": null,
            "overflow_y": null,
            "padding": null,
            "right": null,
            "top": null,
            "visibility": null,
            "width": null
          }
        },
        "55370c2f9d8146eb9eb1ba12ab743517": {
          "model_module": "@jupyter-widgets/controls",
          "model_name": "DescriptionStyleModel",
          "model_module_version": "1.5.0",
          "state": {
            "_model_module": "@jupyter-widgets/controls",
            "_model_module_version": "1.5.0",
            "_model_name": "DescriptionStyleModel",
            "_view_count": null,
            "_view_module": "@jupyter-widgets/base",
            "_view_module_version": "1.2.0",
            "_view_name": "StyleView",
            "description_width": ""
          }
        },
        "4b4e6a37bcb54205817267ce856ab9df": {
          "model_module": "@jupyter-widgets/controls",
          "model_name": "HBoxModel",
          "model_module_version": "1.5.0",
          "state": {
            "_dom_classes": [],
            "_model_module": "@jupyter-widgets/controls",
            "_model_module_version": "1.5.0",
            "_model_name": "HBoxModel",
            "_view_count": null,
            "_view_module": "@jupyter-widgets/controls",
            "_view_module_version": "1.5.0",
            "_view_name": "HBoxView",
            "box_style": "",
            "children": [
              "IPY_MODEL_4c87e9b8d5754b0386ab8595b5effedb",
              "IPY_MODEL_6193df0cd22d4f86826e88b4cdadeb17",
              "IPY_MODEL_3aca2905b1d94779924a2a2a242e38ea"
            ],
            "layout": "IPY_MODEL_4f48f2647be84d4ea78431d3542d58ca"
          }
        },
        "4c87e9b8d5754b0386ab8595b5effedb": {
          "model_module": "@jupyter-widgets/controls",
          "model_name": "HTMLModel",
          "model_module_version": "1.5.0",
          "state": {
            "_dom_classes": [],
            "_model_module": "@jupyter-widgets/controls",
            "_model_module_version": "1.5.0",
            "_model_name": "HTMLModel",
            "_view_count": null,
            "_view_module": "@jupyter-widgets/controls",
            "_view_module_version": "1.5.0",
            "_view_name": "HTMLView",
            "description": "",
            "description_tooltip": null,
            "layout": "IPY_MODEL_a0373879f0614392957e62742bffdfcd",
            "placeholder": "​",
            "style": "IPY_MODEL_de061fed536c49da8b461763b5e050ac",
            "value": "100%"
          }
        },
        "6193df0cd22d4f86826e88b4cdadeb17": {
          "model_module": "@jupyter-widgets/controls",
          "model_name": "FloatProgressModel",
          "model_module_version": "1.5.0",
          "state": {
            "_dom_classes": [],
            "_model_module": "@jupyter-widgets/controls",
            "_model_module_version": "1.5.0",
            "_model_name": "FloatProgressModel",
            "_view_count": null,
            "_view_module": "@jupyter-widgets/controls",
            "_view_module_version": "1.5.0",
            "_view_name": "ProgressView",
            "bar_style": "success",
            "description": "",
            "description_tooltip": null,
            "layout": "IPY_MODEL_7de93b0878954ce79a8b62bd43c62e46",
            "max": 150,
            "min": 0,
            "orientation": "horizontal",
            "style": "IPY_MODEL_42209e35b7d94ac98600fc005c94e106",
            "value": 150
          }
        },
        "3aca2905b1d94779924a2a2a242e38ea": {
          "model_module": "@jupyter-widgets/controls",
          "model_name": "HTMLModel",
          "model_module_version": "1.5.0",
          "state": {
            "_dom_classes": [],
            "_model_module": "@jupyter-widgets/controls",
            "_model_module_version": "1.5.0",
            "_model_name": "HTMLModel",
            "_view_count": null,
            "_view_module": "@jupyter-widgets/controls",
            "_view_module_version": "1.5.0",
            "_view_name": "HTMLView",
            "description": "",
            "description_tooltip": null,
            "layout": "IPY_MODEL_b16b123b1d884597bb3ec986adc6be2b",
            "placeholder": "​",
            "style": "IPY_MODEL_6f31b2ae9a28404d85771400cc12870c",
            "value": " 150/150 [00:00&lt;00:00, 1374.31it/s]"
          }
        },
        "4f48f2647be84d4ea78431d3542d58ca": {
          "model_module": "@jupyter-widgets/base",
          "model_name": "LayoutModel",
          "model_module_version": "1.2.0",
          "state": {
            "_model_module": "@jupyter-widgets/base",
            "_model_module_version": "1.2.0",
            "_model_name": "LayoutModel",
            "_view_count": null,
            "_view_module": "@jupyter-widgets/base",
            "_view_module_version": "1.2.0",
            "_view_name": "LayoutView",
            "align_content": null,
            "align_items": null,
            "align_self": null,
            "border": null,
            "bottom": null,
            "display": null,
            "flex": null,
            "flex_flow": null,
            "grid_area": null,
            "grid_auto_columns": null,
            "grid_auto_flow": null,
            "grid_auto_rows": null,
            "grid_column": null,
            "grid_gap": null,
            "grid_row": null,
            "grid_template_areas": null,
            "grid_template_columns": null,
            "grid_template_rows": null,
            "height": null,
            "justify_content": null,
            "justify_items": null,
            "left": null,
            "margin": null,
            "max_height": null,
            "max_width": null,
            "min_height": null,
            "min_width": null,
            "object_fit": null,
            "object_position": null,
            "order": null,
            "overflow": null,
            "overflow_x": null,
            "overflow_y": null,
            "padding": null,
            "right": null,
            "top": null,
            "visibility": null,
            "width": null
          }
        },
        "a0373879f0614392957e62742bffdfcd": {
          "model_module": "@jupyter-widgets/base",
          "model_name": "LayoutModel",
          "model_module_version": "1.2.0",
          "state": {
            "_model_module": "@jupyter-widgets/base",
            "_model_module_version": "1.2.0",
            "_model_name": "LayoutModel",
            "_view_count": null,
            "_view_module": "@jupyter-widgets/base",
            "_view_module_version": "1.2.0",
            "_view_name": "LayoutView",
            "align_content": null,
            "align_items": null,
            "align_self": null,
            "border": null,
            "bottom": null,
            "display": null,
            "flex": null,
            "flex_flow": null,
            "grid_area": null,
            "grid_auto_columns": null,
            "grid_auto_flow": null,
            "grid_auto_rows": null,
            "grid_column": null,
            "grid_gap": null,
            "grid_row": null,
            "grid_template_areas": null,
            "grid_template_columns": null,
            "grid_template_rows": null,
            "height": null,
            "justify_content": null,
            "justify_items": null,
            "left": null,
            "margin": null,
            "max_height": null,
            "max_width": null,
            "min_height": null,
            "min_width": null,
            "object_fit": null,
            "object_position": null,
            "order": null,
            "overflow": null,
            "overflow_x": null,
            "overflow_y": null,
            "padding": null,
            "right": null,
            "top": null,
            "visibility": null,
            "width": null
          }
        },
        "de061fed536c49da8b461763b5e050ac": {
          "model_module": "@jupyter-widgets/controls",
          "model_name": "DescriptionStyleModel",
          "model_module_version": "1.5.0",
          "state": {
            "_model_module": "@jupyter-widgets/controls",
            "_model_module_version": "1.5.0",
            "_model_name": "DescriptionStyleModel",
            "_view_count": null,
            "_view_module": "@jupyter-widgets/base",
            "_view_module_version": "1.2.0",
            "_view_name": "StyleView",
            "description_width": ""
          }
        },
        "7de93b0878954ce79a8b62bd43c62e46": {
          "model_module": "@jupyter-widgets/base",
          "model_name": "LayoutModel",
          "model_module_version": "1.2.0",
          "state": {
            "_model_module": "@jupyter-widgets/base",
            "_model_module_version": "1.2.0",
            "_model_name": "LayoutModel",
            "_view_count": null,
            "_view_module": "@jupyter-widgets/base",
            "_view_module_version": "1.2.0",
            "_view_name": "LayoutView",
            "align_content": null,
            "align_items": null,
            "align_self": null,
            "border": null,
            "bottom": null,
            "display": null,
            "flex": null,
            "flex_flow": null,
            "grid_area": null,
            "grid_auto_columns": null,
            "grid_auto_flow": null,
            "grid_auto_rows": null,
            "grid_column": null,
            "grid_gap": null,
            "grid_row": null,
            "grid_template_areas": null,
            "grid_template_columns": null,
            "grid_template_rows": null,
            "height": null,
            "justify_content": null,
            "justify_items": null,
            "left": null,
            "margin": null,
            "max_height": null,
            "max_width": null,
            "min_height": null,
            "min_width": null,
            "object_fit": null,
            "object_position": null,
            "order": null,
            "overflow": null,
            "overflow_x": null,
            "overflow_y": null,
            "padding": null,
            "right": null,
            "top": null,
            "visibility": null,
            "width": null
          }
        },
        "42209e35b7d94ac98600fc005c94e106": {
          "model_module": "@jupyter-widgets/controls",
          "model_name": "ProgressStyleModel",
          "model_module_version": "1.5.0",
          "state": {
            "_model_module": "@jupyter-widgets/controls",
            "_model_module_version": "1.5.0",
            "_model_name": "ProgressStyleModel",
            "_view_count": null,
            "_view_module": "@jupyter-widgets/base",
            "_view_module_version": "1.2.0",
            "_view_name": "StyleView",
            "bar_color": null,
            "description_width": ""
          }
        },
        "b16b123b1d884597bb3ec986adc6be2b": {
          "model_module": "@jupyter-widgets/base",
          "model_name": "LayoutModel",
          "model_module_version": "1.2.0",
          "state": {
            "_model_module": "@jupyter-widgets/base",
            "_model_module_version": "1.2.0",
            "_model_name": "LayoutModel",
            "_view_count": null,
            "_view_module": "@jupyter-widgets/base",
            "_view_module_version": "1.2.0",
            "_view_name": "LayoutView",
            "align_content": null,
            "align_items": null,
            "align_self": null,
            "border": null,
            "bottom": null,
            "display": null,
            "flex": null,
            "flex_flow": null,
            "grid_area": null,
            "grid_auto_columns": null,
            "grid_auto_flow": null,
            "grid_auto_rows": null,
            "grid_column": null,
            "grid_gap": null,
            "grid_row": null,
            "grid_template_areas": null,
            "grid_template_columns": null,
            "grid_template_rows": null,
            "height": null,
            "justify_content": null,
            "justify_items": null,
            "left": null,
            "margin": null,
            "max_height": null,
            "max_width": null,
            "min_height": null,
            "min_width": null,
            "object_fit": null,
            "object_position": null,
            "order": null,
            "overflow": null,
            "overflow_x": null,
            "overflow_y": null,
            "padding": null,
            "right": null,
            "top": null,
            "visibility": null,
            "width": null
          }
        },
        "6f31b2ae9a28404d85771400cc12870c": {
          "model_module": "@jupyter-widgets/controls",
          "model_name": "DescriptionStyleModel",
          "model_module_version": "1.5.0",
          "state": {
            "_model_module": "@jupyter-widgets/controls",
            "_model_module_version": "1.5.0",
            "_model_name": "DescriptionStyleModel",
            "_view_count": null,
            "_view_module": "@jupyter-widgets/base",
            "_view_module_version": "1.2.0",
            "_view_name": "StyleView",
            "description_width": ""
          }
        },
        "1d68af9ee6c74bfbabf62e98bbd951ab": {
          "model_module": "@jupyter-widgets/controls",
          "model_name": "HBoxModel",
          "model_module_version": "1.5.0",
          "state": {
            "_dom_classes": [],
            "_model_module": "@jupyter-widgets/controls",
            "_model_module_version": "1.5.0",
            "_model_name": "HBoxModel",
            "_view_count": null,
            "_view_module": "@jupyter-widgets/controls",
            "_view_module_version": "1.5.0",
            "_view_name": "HBoxView",
            "box_style": "",
            "children": [
              "IPY_MODEL_e911f7b0433f403abac76d903adf3936",
              "IPY_MODEL_f319f520146c43f69f613c6cd6d72638",
              "IPY_MODEL_90fd888128d3445888300a51f0252b30"
            ],
            "layout": "IPY_MODEL_b2133db71afd482eb74b198c2ccae88b"
          }
        },
        "e911f7b0433f403abac76d903adf3936": {
          "model_module": "@jupyter-widgets/controls",
          "model_name": "HTMLModel",
          "model_module_version": "1.5.0",
          "state": {
            "_dom_classes": [],
            "_model_module": "@jupyter-widgets/controls",
            "_model_module_version": "1.5.0",
            "_model_name": "HTMLModel",
            "_view_count": null,
            "_view_module": "@jupyter-widgets/controls",
            "_view_module_version": "1.5.0",
            "_view_name": "HTMLView",
            "description": "",
            "description_tooltip": null,
            "layout": "IPY_MODEL_939950a94a6048c7932e42354a124dfb",
            "placeholder": "​",
            "style": "IPY_MODEL_5f26b868b5e44d6281e4c22ddb4dba76",
            "value": "Training 1/10:   3%"
          }
        },
        "f319f520146c43f69f613c6cd6d72638": {
          "model_module": "@jupyter-widgets/controls",
          "model_name": "FloatProgressModel",
          "model_module_version": "1.5.0",
          "state": {
            "_dom_classes": [],
            "_model_module": "@jupyter-widgets/controls",
            "_model_module_version": "1.5.0",
            "_model_name": "FloatProgressModel",
            "_view_count": null,
            "_view_module": "@jupyter-widgets/controls",
            "_view_module_version": "1.5.0",
            "_view_name": "ProgressView",
            "bar_style": "",
            "description": "",
            "description_tooltip": null,
            "layout": "IPY_MODEL_5f84184ae3b64651808f359005b1570b",
            "max": 159,
            "min": 0,
            "orientation": "horizontal",
            "style": "IPY_MODEL_92f783e811ea4fd1a8210a314ac5fc46",
            "value": 4
          }
        },
        "90fd888128d3445888300a51f0252b30": {
          "model_module": "@jupyter-widgets/controls",
          "model_name": "HTMLModel",
          "model_module_version": "1.5.0",
          "state": {
            "_dom_classes": [],
            "_model_module": "@jupyter-widgets/controls",
            "_model_module_version": "1.5.0",
            "_model_name": "HTMLModel",
            "_view_count": null,
            "_view_module": "@jupyter-widgets/controls",
            "_view_module_version": "1.5.0",
            "_view_name": "HTMLView",
            "description": "",
            "description_tooltip": null,
            "layout": "IPY_MODEL_d116c8c98d5f4e07ae05cbd44b46e42f",
            "placeholder": "​",
            "style": "IPY_MODEL_43a577d44fc8422a826ce022ca0f0445",
            "value": " 4/159 [00:43&lt;26:02, 10.08s/it]"
          }
        },
        "b2133db71afd482eb74b198c2ccae88b": {
          "model_module": "@jupyter-widgets/base",
          "model_name": "LayoutModel",
          "model_module_version": "1.2.0",
          "state": {
            "_model_module": "@jupyter-widgets/base",
            "_model_module_version": "1.2.0",
            "_model_name": "LayoutModel",
            "_view_count": null,
            "_view_module": "@jupyter-widgets/base",
            "_view_module_version": "1.2.0",
            "_view_name": "LayoutView",
            "align_content": null,
            "align_items": null,
            "align_self": null,
            "border": null,
            "bottom": null,
            "display": null,
            "flex": null,
            "flex_flow": null,
            "grid_area": null,
            "grid_auto_columns": null,
            "grid_auto_flow": null,
            "grid_auto_rows": null,
            "grid_column": null,
            "grid_gap": null,
            "grid_row": null,
            "grid_template_areas": null,
            "grid_template_columns": null,
            "grid_template_rows": null,
            "height": null,
            "justify_content": null,
            "justify_items": null,
            "left": null,
            "margin": null,
            "max_height": null,
            "max_width": null,
            "min_height": null,
            "min_width": null,
            "object_fit": null,
            "object_position": null,
            "order": null,
            "overflow": null,
            "overflow_x": null,
            "overflow_y": null,
            "padding": null,
            "right": null,
            "top": null,
            "visibility": null,
            "width": null
          }
        },
        "939950a94a6048c7932e42354a124dfb": {
          "model_module": "@jupyter-widgets/base",
          "model_name": "LayoutModel",
          "model_module_version": "1.2.0",
          "state": {
            "_model_module": "@jupyter-widgets/base",
            "_model_module_version": "1.2.0",
            "_model_name": "LayoutModel",
            "_view_count": null,
            "_view_module": "@jupyter-widgets/base",
            "_view_module_version": "1.2.0",
            "_view_name": "LayoutView",
            "align_content": null,
            "align_items": null,
            "align_self": null,
            "border": null,
            "bottom": null,
            "display": null,
            "flex": null,
            "flex_flow": null,
            "grid_area": null,
            "grid_auto_columns": null,
            "grid_auto_flow": null,
            "grid_auto_rows": null,
            "grid_column": null,
            "grid_gap": null,
            "grid_row": null,
            "grid_template_areas": null,
            "grid_template_columns": null,
            "grid_template_rows": null,
            "height": null,
            "justify_content": null,
            "justify_items": null,
            "left": null,
            "margin": null,
            "max_height": null,
            "max_width": null,
            "min_height": null,
            "min_width": null,
            "object_fit": null,
            "object_position": null,
            "order": null,
            "overflow": null,
            "overflow_x": null,
            "overflow_y": null,
            "padding": null,
            "right": null,
            "top": null,
            "visibility": null,
            "width": null
          }
        },
        "5f26b868b5e44d6281e4c22ddb4dba76": {
          "model_module": "@jupyter-widgets/controls",
          "model_name": "DescriptionStyleModel",
          "model_module_version": "1.5.0",
          "state": {
            "_model_module": "@jupyter-widgets/controls",
            "_model_module_version": "1.5.0",
            "_model_name": "DescriptionStyleModel",
            "_view_count": null,
            "_view_module": "@jupyter-widgets/base",
            "_view_module_version": "1.2.0",
            "_view_name": "StyleView",
            "description_width": ""
          }
        },
        "5f84184ae3b64651808f359005b1570b": {
          "model_module": "@jupyter-widgets/base",
          "model_name": "LayoutModel",
          "model_module_version": "1.2.0",
          "state": {
            "_model_module": "@jupyter-widgets/base",
            "_model_module_version": "1.2.0",
            "_model_name": "LayoutModel",
            "_view_count": null,
            "_view_module": "@jupyter-widgets/base",
            "_view_module_version": "1.2.0",
            "_view_name": "LayoutView",
            "align_content": null,
            "align_items": null,
            "align_self": null,
            "border": null,
            "bottom": null,
            "display": null,
            "flex": null,
            "flex_flow": null,
            "grid_area": null,
            "grid_auto_columns": null,
            "grid_auto_flow": null,
            "grid_auto_rows": null,
            "grid_column": null,
            "grid_gap": null,
            "grid_row": null,
            "grid_template_areas": null,
            "grid_template_columns": null,
            "grid_template_rows": null,
            "height": null,
            "justify_content": null,
            "justify_items": null,
            "left": null,
            "margin": null,
            "max_height": null,
            "max_width": null,
            "min_height": null,
            "min_width": null,
            "object_fit": null,
            "object_position": null,
            "order": null,
            "overflow": null,
            "overflow_x": null,
            "overflow_y": null,
            "padding": null,
            "right": null,
            "top": null,
            "visibility": null,
            "width": null
          }
        },
        "92f783e811ea4fd1a8210a314ac5fc46": {
          "model_module": "@jupyter-widgets/controls",
          "model_name": "ProgressStyleModel",
          "model_module_version": "1.5.0",
          "state": {
            "_model_module": "@jupyter-widgets/controls",
            "_model_module_version": "1.5.0",
            "_model_name": "ProgressStyleModel",
            "_view_count": null,
            "_view_module": "@jupyter-widgets/base",
            "_view_module_version": "1.2.0",
            "_view_name": "StyleView",
            "bar_color": null,
            "description_width": ""
          }
        },
        "d116c8c98d5f4e07ae05cbd44b46e42f": {
          "model_module": "@jupyter-widgets/base",
          "model_name": "LayoutModel",
          "model_module_version": "1.2.0",
          "state": {
            "_model_module": "@jupyter-widgets/base",
            "_model_module_version": "1.2.0",
            "_model_name": "LayoutModel",
            "_view_count": null,
            "_view_module": "@jupyter-widgets/base",
            "_view_module_version": "1.2.0",
            "_view_name": "LayoutView",
            "align_content": null,
            "align_items": null,
            "align_self": null,
            "border": null,
            "bottom": null,
            "display": null,
            "flex": null,
            "flex_flow": null,
            "grid_area": null,
            "grid_auto_columns": null,
            "grid_auto_flow": null,
            "grid_auto_rows": null,
            "grid_column": null,
            "grid_gap": null,
            "grid_row": null,
            "grid_template_areas": null,
            "grid_template_columns": null,
            "grid_template_rows": null,
            "height": null,
            "justify_content": null,
            "justify_items": null,
            "left": null,
            "margin": null,
            "max_height": null,
            "max_width": null,
            "min_height": null,
            "min_width": null,
            "object_fit": null,
            "object_position": null,
            "order": null,
            "overflow": null,
            "overflow_x": null,
            "overflow_y": null,
            "padding": null,
            "right": null,
            "top": null,
            "visibility": null,
            "width": null
          }
        },
        "43a577d44fc8422a826ce022ca0f0445": {
          "model_module": "@jupyter-widgets/controls",
          "model_name": "DescriptionStyleModel",
          "model_module_version": "1.5.0",
          "state": {
            "_model_module": "@jupyter-widgets/controls",
            "_model_module_version": "1.5.0",
            "_model_name": "DescriptionStyleModel",
            "_view_count": null,
            "_view_module": "@jupyter-widgets/base",
            "_view_module_version": "1.2.0",
            "_view_name": "StyleView",
            "description_width": ""
          }
        }
      }
    }
  },
  "cells": [
    {
      "cell_type": "markdown",
      "metadata": {
        "id": "view-in-github",
        "colab_type": "text"
      },
      "source": [
        "<a href=\"https://colab.research.google.com/github/mdmake/intro-to-dl-hse/blob/2021-2022/training/seminars_04_fin.ipynb\" target=\"_parent\"><img src=\"https://colab.research.google.com/assets/colab-badge.svg\" alt=\"Open In Colab\"/></a>"
      ]
    },
    {
      "cell_type": "code",
      "source": [],
      "metadata": {
        "id": "VKF18Hn_oV5G"
      },
      "execution_count": null,
      "outputs": []
    },
    {
      "cell_type": "code",
      "source": [
        "!pip install -q kaggle"
      ],
      "metadata": {
        "id": "HKIiHuIaoXbx"
      },
      "execution_count": null,
      "outputs": []
    },
    {
      "cell_type": "code",
      "source": [
        "from google.colab import files\n",
        "files.upload()"
      ],
      "metadata": {
        "colab": {
          "base_uri": "https://localhost:8080/",
          "height": 86
        },
        "id": "lWI18esioXeO",
        "outputId": "4db8f76b-4321-434b-841e-f01f38833a83"
      },
      "execution_count": null,
      "outputs": [
        {
          "output_type": "display_data",
          "data": {
            "text/plain": [
              "<IPython.core.display.HTML object>"
            ],
            "text/html": [
              "\n",
              "     <input type=\"file\" id=\"files-fb4403e9-d680-47cb-81f4-73bb18e621fc\" name=\"files[]\" multiple disabled\n",
              "        style=\"border:none\" />\n",
              "     <output id=\"result-fb4403e9-d680-47cb-81f4-73bb18e621fc\">\n",
              "      Upload widget is only available when the cell has been executed in the\n",
              "      current browser session. Please rerun this cell to enable.\n",
              "      </output>\n",
              "      <script>// Copyright 2017 Google LLC\n",
              "//\n",
              "// Licensed under the Apache License, Version 2.0 (the \"License\");\n",
              "// you may not use this file except in compliance with the License.\n",
              "// You may obtain a copy of the License at\n",
              "//\n",
              "//      http://www.apache.org/licenses/LICENSE-2.0\n",
              "//\n",
              "// Unless required by applicable law or agreed to in writing, software\n",
              "// distributed under the License is distributed on an \"AS IS\" BASIS,\n",
              "// WITHOUT WARRANTIES OR CONDITIONS OF ANY KIND, either express or implied.\n",
              "// See the License for the specific language governing permissions and\n",
              "// limitations under the License.\n",
              "\n",
              "/**\n",
              " * @fileoverview Helpers for google.colab Python module.\n",
              " */\n",
              "(function(scope) {\n",
              "function span(text, styleAttributes = {}) {\n",
              "  const element = document.createElement('span');\n",
              "  element.textContent = text;\n",
              "  for (const key of Object.keys(styleAttributes)) {\n",
              "    element.style[key] = styleAttributes[key];\n",
              "  }\n",
              "  return element;\n",
              "}\n",
              "\n",
              "// Max number of bytes which will be uploaded at a time.\n",
              "const MAX_PAYLOAD_SIZE = 100 * 1024;\n",
              "\n",
              "function _uploadFiles(inputId, outputId) {\n",
              "  const steps = uploadFilesStep(inputId, outputId);\n",
              "  const outputElement = document.getElementById(outputId);\n",
              "  // Cache steps on the outputElement to make it available for the next call\n",
              "  // to uploadFilesContinue from Python.\n",
              "  outputElement.steps = steps;\n",
              "\n",
              "  return _uploadFilesContinue(outputId);\n",
              "}\n",
              "\n",
              "// This is roughly an async generator (not supported in the browser yet),\n",
              "// where there are multiple asynchronous steps and the Python side is going\n",
              "// to poll for completion of each step.\n",
              "// This uses a Promise to block the python side on completion of each step,\n",
              "// then passes the result of the previous step as the input to the next step.\n",
              "function _uploadFilesContinue(outputId) {\n",
              "  const outputElement = document.getElementById(outputId);\n",
              "  const steps = outputElement.steps;\n",
              "\n",
              "  const next = steps.next(outputElement.lastPromiseValue);\n",
              "  return Promise.resolve(next.value.promise).then((value) => {\n",
              "    // Cache the last promise value to make it available to the next\n",
              "    // step of the generator.\n",
              "    outputElement.lastPromiseValue = value;\n",
              "    return next.value.response;\n",
              "  });\n",
              "}\n",
              "\n",
              "/**\n",
              " * Generator function which is called between each async step of the upload\n",
              " * process.\n",
              " * @param {string} inputId Element ID of the input file picker element.\n",
              " * @param {string} outputId Element ID of the output display.\n",
              " * @return {!Iterable<!Object>} Iterable of next steps.\n",
              " */\n",
              "function* uploadFilesStep(inputId, outputId) {\n",
              "  const inputElement = document.getElementById(inputId);\n",
              "  inputElement.disabled = false;\n",
              "\n",
              "  const outputElement = document.getElementById(outputId);\n",
              "  outputElement.innerHTML = '';\n",
              "\n",
              "  const pickedPromise = new Promise((resolve) => {\n",
              "    inputElement.addEventListener('change', (e) => {\n",
              "      resolve(e.target.files);\n",
              "    });\n",
              "  });\n",
              "\n",
              "  const cancel = document.createElement('button');\n",
              "  inputElement.parentElement.appendChild(cancel);\n",
              "  cancel.textContent = 'Cancel upload';\n",
              "  const cancelPromise = new Promise((resolve) => {\n",
              "    cancel.onclick = () => {\n",
              "      resolve(null);\n",
              "    };\n",
              "  });\n",
              "\n",
              "  // Wait for the user to pick the files.\n",
              "  const files = yield {\n",
              "    promise: Promise.race([pickedPromise, cancelPromise]),\n",
              "    response: {\n",
              "      action: 'starting',\n",
              "    }\n",
              "  };\n",
              "\n",
              "  cancel.remove();\n",
              "\n",
              "  // Disable the input element since further picks are not allowed.\n",
              "  inputElement.disabled = true;\n",
              "\n",
              "  if (!files) {\n",
              "    return {\n",
              "      response: {\n",
              "        action: 'complete',\n",
              "      }\n",
              "    };\n",
              "  }\n",
              "\n",
              "  for (const file of files) {\n",
              "    const li = document.createElement('li');\n",
              "    li.append(span(file.name, {fontWeight: 'bold'}));\n",
              "    li.append(span(\n",
              "        `(${file.type || 'n/a'}) - ${file.size} bytes, ` +\n",
              "        `last modified: ${\n",
              "            file.lastModifiedDate ? file.lastModifiedDate.toLocaleDateString() :\n",
              "                                    'n/a'} - `));\n",
              "    const percent = span('0% done');\n",
              "    li.appendChild(percent);\n",
              "\n",
              "    outputElement.appendChild(li);\n",
              "\n",
              "    const fileDataPromise = new Promise((resolve) => {\n",
              "      const reader = new FileReader();\n",
              "      reader.onload = (e) => {\n",
              "        resolve(e.target.result);\n",
              "      };\n",
              "      reader.readAsArrayBuffer(file);\n",
              "    });\n",
              "    // Wait for the data to be ready.\n",
              "    let fileData = yield {\n",
              "      promise: fileDataPromise,\n",
              "      response: {\n",
              "        action: 'continue',\n",
              "      }\n",
              "    };\n",
              "\n",
              "    // Use a chunked sending to avoid message size limits. See b/62115660.\n",
              "    let position = 0;\n",
              "    do {\n",
              "      const length = Math.min(fileData.byteLength - position, MAX_PAYLOAD_SIZE);\n",
              "      const chunk = new Uint8Array(fileData, position, length);\n",
              "      position += length;\n",
              "\n",
              "      const base64 = btoa(String.fromCharCode.apply(null, chunk));\n",
              "      yield {\n",
              "        response: {\n",
              "          action: 'append',\n",
              "          file: file.name,\n",
              "          data: base64,\n",
              "        },\n",
              "      };\n",
              "\n",
              "      let percentDone = fileData.byteLength === 0 ?\n",
              "          100 :\n",
              "          Math.round((position / fileData.byteLength) * 100);\n",
              "      percent.textContent = `${percentDone}% done`;\n",
              "\n",
              "    } while (position < fileData.byteLength);\n",
              "  }\n",
              "\n",
              "  // All done.\n",
              "  yield {\n",
              "    response: {\n",
              "      action: 'complete',\n",
              "    }\n",
              "  };\n",
              "}\n",
              "\n",
              "scope.google = scope.google || {};\n",
              "scope.google.colab = scope.google.colab || {};\n",
              "scope.google.colab._files = {\n",
              "  _uploadFiles,\n",
              "  _uploadFilesContinue,\n",
              "};\n",
              "})(self);\n",
              "</script> "
            ]
          },
          "metadata": {}
        },
        {
          "output_type": "stream",
          "name": "stdout",
          "text": [
            "Saving kaggle.json to kaggle.json\n"
          ]
        },
        {
          "output_type": "execute_result",
          "data": {
            "text/plain": [
              "{'kaggle.json': b'{\"username\":\"mmakemd\",\"key\":\"a086f54189fb149edae07fd380042089\"}'}"
            ]
          },
          "metadata": {},
          "execution_count": 4
        }
      ]
    },
    {
      "cell_type": "code",
      "source": [
        "!mkdir ~/.kaggle"
      ],
      "metadata": {
        "colab": {
          "base_uri": "https://localhost:8080/"
        },
        "id": "aRuuwKI5oXgd",
        "outputId": "cb573604-155e-4ff5-bd8e-2fd0240ec1ea"
      },
      "execution_count": null,
      "outputs": [
        {
          "output_type": "stream",
          "name": "stdout",
          "text": [
            "mkdir: cannot create directory ‘/root/.kaggle’: File exists\n"
          ]
        }
      ]
    },
    {
      "cell_type": "code",
      "source": [
        "! cp kaggle.json ~/.kaggle/"
      ],
      "metadata": {
        "id": "mUZLX5GUo8_q"
      },
      "execution_count": null,
      "outputs": []
    },
    {
      "cell_type": "code",
      "source": [
        "!chmod 600 ~/.kaggle/kaggle.json"
      ],
      "metadata": {
        "id": "BBqXgnYOo1pJ"
      },
      "execution_count": null,
      "outputs": []
    },
    {
      "cell_type": "code",
      "execution_count": null,
      "metadata": {
        "colab": {
          "base_uri": "https://localhost:8080/"
        },
        "id": "oWY01PujnSNP",
        "outputId": "cfd9862a-f8a4-4d64-ab91-1c4e3764e330"
      },
      "outputs": [
        {
          "output_type": "stream",
          "name": "stdout",
          "text": [
            "Downloading pokemonclassification.zip to /content\n",
            "\n"
          ]
        },
        {
          "output_type": "stream",
          "name": "stderr",
          "text": [
            "\r  0%|          | 0.00/417M [00:00<?, ?B/s]\r  1%|          | 5.00M/417M [00:00<00:11, 36.1MB/s]\r  6%|▌         | 23.0M/417M [00:00<00:03, 112MB/s] \r  8%|▊         | 35.0M/417M [00:00<00:04, 86.5MB/s]\r 11%|█         | 45.0M/417M [00:00<00:04, 79.9MB/s]\r 13%|█▎        | 54.0M/417M [00:00<00:06, 55.8MB/s]\r 16%|█▌        | 65.0M/417M [00:00<00:05, 65.6MB/s]\r 19%|█▉        | 81.0M/417M [00:01<00:05, 62.1MB/s]\r 25%|██▌       | 105M/417M [00:01<00:04, 80.5MB/s] \r 29%|██▉       | 122M/417M [00:01<00:03, 96.5MB/s]\r 33%|███▎      | 136M/417M [00:01<00:02, 107MB/s] \r 35%|███▌      | 148M/417M [00:01<00:03, 83.4MB/s]\r 38%|███▊      | 158M/417M [00:02<00:03, 75.0MB/s]\r 40%|████      | 167M/417M [00:02<00:03, 72.1MB/s]\r 44%|████▍     | 185M/417M [00:02<00:02, 87.5MB/s]\r 48%|████▊     | 200M/417M [00:02<00:02, 101MB/s] \r 51%|█████     | 211M/417M [00:03<00:03, 56.2MB/s]\r 55%|█████▍    | 229M/417M [00:03<00:02, 75.4MB/s]\r 59%|█████▉    | 246M/417M [00:03<00:01, 92.8MB/s]\r 62%|██████▏   | 259M/417M [00:03<00:01, 91.9MB/s]\r 65%|██████▍   | 271M/417M [00:04<00:03, 39.9MB/s]\r 69%|██████▉   | 287M/417M [00:04<00:02, 53.3MB/s]\r 73%|███████▎  | 304M/417M [00:04<00:01, 69.3MB/s]\r 76%|███████▌  | 317M/417M [00:04<00:01, 68.7MB/s]\r 79%|███████▊  | 328M/417M [00:04<00:01, 52.1MB/s]\r 81%|████████  | 337M/417M [00:05<00:01, 52.8MB/s]\r 85%|████████▍ | 353M/417M [00:05<00:01, 63.4MB/s]\r 87%|████████▋ | 361M/417M [00:05<00:00, 63.9MB/s]\r 90%|████████▉ | 374M/417M [00:05<00:00, 77.0MB/s]\r 92%|█████████▏| 384M/417M [00:05<00:00, 79.9MB/s]\r 95%|█████████▌| 397M/417M [00:05<00:00, 91.6MB/s]\r 98%|█████████▊| 408M/417M [00:05<00:00, 88.5MB/s]\r100%|██████████| 417M/417M [00:05<00:00, 73.4MB/s]\n"
          ]
        }
      ],
      "source": [
        "%%bash\n",
        "kaggle datasets download -d lantian773030/pokemonclassification\n",
        "unzip -qq pokemonclassification.zip"
      ]
    },
    {
      "cell_type": "code",
      "source": [
        "!ls -la PokemonData"
      ],
      "metadata": {
        "colab": {
          "base_uri": "https://localhost:8080/"
        },
        "id": "aBWueeXprDHl",
        "outputId": "1aed9679-0b78-4004-c262-8eea0e4f2215"
      },
      "execution_count": null,
      "outputs": [
        {
          "output_type": "stream",
          "name": "stdout",
          "text": [
            "total 608\n",
            "drwxr-xr-x 152 root root 4096 Jan 15 08:41  .\n",
            "drwxr-xr-x   1 root root 4096 Jan 15 08:41  ..\n",
            "drwxr-xr-x   2 root root 4096 Jan 15 08:41  Abra\n",
            "drwxr-xr-x   2 root root 4096 Jan 15 08:41  Aerodactyl\n",
            "drwxr-xr-x   2 root root 4096 Jan 15 08:41  Alakazam\n",
            "drwxr-xr-x   2 root root 4096 Jan 15 08:41 'Alolan Sandslash'\n",
            "drwxr-xr-x   2 root root 4096 Jan 15 08:41  Arbok\n",
            "drwxr-xr-x   2 root root 4096 Jan 15 08:41  Arcanine\n",
            "drwxr-xr-x   2 root root 4096 Jan 15 08:41  Articuno\n",
            "drwxr-xr-x   2 root root 4096 Jan 15 08:41  Beedrill\n",
            "drwxr-xr-x   2 root root 4096 Jan 15 08:41  Bellsprout\n",
            "drwxr-xr-x   2 root root 4096 Jan 15 08:41  Blastoise\n",
            "drwxr-xr-x   2 root root 4096 Jan 15 08:41  Bulbasaur\n",
            "drwxr-xr-x   2 root root 4096 Jan 15 08:41  Butterfree\n",
            "drwxr-xr-x   2 root root 4096 Jan 15 08:41  Caterpie\n",
            "drwxr-xr-x   2 root root 4096 Jan 15 08:41  Chansey\n",
            "drwxr-xr-x   2 root root 4096 Jan 15 08:41  Charizard\n",
            "drwxr-xr-x   2 root root 4096 Jan 15 08:41  Charmander\n",
            "drwxr-xr-x   2 root root 4096 Jan 15 08:41  Charmeleon\n",
            "drwxr-xr-x   2 root root 4096 Jan 15 08:41  Clefable\n",
            "drwxr-xr-x   2 root root 4096 Jan 15 08:41  Clefairy\n",
            "drwxr-xr-x   2 root root 4096 Jan 15 08:41  Cloyster\n",
            "drwxr-xr-x   2 root root 4096 Jan 15 08:41  Cubone\n",
            "drwxr-xr-x   2 root root 4096 Jan 15 08:41  Dewgong\n",
            "drwxr-xr-x   2 root root 4096 Jan 15 08:41  Diglett\n",
            "drwxr-xr-x   2 root root 4096 Jan 15 08:41  Ditto\n",
            "drwxr-xr-x   2 root root 4096 Jan 15 08:41  Dodrio\n",
            "drwxr-xr-x   2 root root 4096 Jan 15 08:41  Doduo\n",
            "drwxr-xr-x   2 root root 4096 Jan 15 08:41  Dragonair\n",
            "drwxr-xr-x   2 root root 4096 Jan 15 08:41  Dragonite\n",
            "drwxr-xr-x   2 root root 4096 Jan 15 08:41  Dratini\n",
            "drwxr-xr-x   2 root root 4096 Jan 15 08:41  Drowzee\n",
            "drwxr-xr-x   2 root root 4096 Jan 15 08:41  Dugtrio\n",
            "drwxr-xr-x   2 root root 4096 Jan 15 08:41  Eevee\n",
            "drwxr-xr-x   2 root root 4096 Jan 15 08:41  Ekans\n",
            "drwxr-xr-x   2 root root 4096 Jan 15 08:41  Electabuzz\n",
            "drwxr-xr-x   2 root root 4096 Jan 15 08:41  Electrode\n",
            "drwxr-xr-x   2 root root 4096 Jan 15 08:41  Exeggcute\n",
            "drwxr-xr-x   2 root root 4096 Jan 15 08:41  Exeggutor\n",
            "drwxr-xr-x   2 root root 4096 Jan 15 08:41  Farfetchd\n",
            "drwxr-xr-x   2 root root 4096 Jan 15 08:41  Fearow\n",
            "drwxr-xr-x   2 root root 4096 Jan 15 08:41  Flareon\n",
            "drwxr-xr-x   2 root root 4096 Jan 15 08:41  Gastly\n",
            "drwxr-xr-x   2 root root 4096 Jan 15 08:41  Gengar\n",
            "drwxr-xr-x   2 root root 4096 Jan 15 08:41  Geodude\n",
            "drwxr-xr-x   2 root root 4096 Jan 15 08:41  Gloom\n",
            "drwxr-xr-x   2 root root 4096 Jan 15 08:41  Golbat\n",
            "drwxr-xr-x   2 root root 4096 Jan 15 08:41  Goldeen\n",
            "drwxr-xr-x   2 root root 4096 Jan 15 08:41  Golduck\n",
            "drwxr-xr-x   2 root root 4096 Jan 15 08:41  Golem\n",
            "drwxr-xr-x   2 root root 4096 Jan 15 08:41  Graveler\n",
            "drwxr-xr-x   2 root root 4096 Jan 15 08:41  Grimer\n",
            "drwxr-xr-x   2 root root 4096 Jan 15 08:41  Growlithe\n",
            "drwxr-xr-x   2 root root 4096 Jan 15 08:41  Gyarados\n",
            "drwxr-xr-x   2 root root 4096 Jan 15 08:41  Haunter\n",
            "drwxr-xr-x   2 root root 4096 Jan 15 08:41  Hitmonchan\n",
            "drwxr-xr-x   2 root root 4096 Jan 15 08:41  Hitmonlee\n",
            "drwxr-xr-x   2 root root 4096 Jan 15 08:41  Horsea\n",
            "drwxr-xr-x   2 root root 4096 Jan 15 08:41  Hypno\n",
            "drwxr-xr-x   2 root root 4096 Jan 15 08:41  Ivysaur\n",
            "drwxr-xr-x   2 root root 4096 Jan 15 08:41  Jigglypuff\n",
            "drwxr-xr-x   2 root root 4096 Jan 15 08:41  Jolteon\n",
            "drwxr-xr-x   2 root root 4096 Jan 15 08:41  Jynx\n",
            "drwxr-xr-x   2 root root 4096 Jan 15 08:41  Kabuto\n",
            "drwxr-xr-x   2 root root 4096 Jan 15 08:41  Kabutops\n",
            "drwxr-xr-x   2 root root 4096 Jan 15 08:41  Kadabra\n",
            "drwxr-xr-x   2 root root 4096 Jan 15 08:41  Kakuna\n",
            "drwxr-xr-x   2 root root 4096 Jan 15 08:41  Kangaskhan\n",
            "drwxr-xr-x   2 root root 4096 Jan 15 08:41  Kingler\n",
            "drwxr-xr-x   2 root root 4096 Jan 15 08:41  Koffing\n",
            "drwxr-xr-x   2 root root 4096 Jan 15 08:41  Krabby\n",
            "drwxr-xr-x   2 root root 4096 Jan 15 08:41  Lapras\n",
            "drwxr-xr-x   2 root root 4096 Jan 15 08:41  Lickitung\n",
            "drwxr-xr-x   2 root root 4096 Jan 15 08:41  Machamp\n",
            "drwxr-xr-x   2 root root 4096 Jan 15 08:41  Machoke\n",
            "drwxr-xr-x   2 root root 4096 Jan 15 08:41  Machop\n",
            "drwxr-xr-x   2 root root 4096 Jan 15 08:41  Magikarp\n",
            "drwxr-xr-x   2 root root 4096 Jan 15 08:41  Magmar\n",
            "drwxr-xr-x   2 root root 4096 Jan 15 08:41  Magnemite\n",
            "drwxr-xr-x   2 root root 4096 Jan 15 08:41  Magneton\n",
            "drwxr-xr-x   2 root root 4096 Jan 15 08:41  Mankey\n",
            "drwxr-xr-x   2 root root 4096 Jan 15 08:41  Marowak\n",
            "drwxr-xr-x   2 root root 4096 Jan 15 08:41  Meowth\n",
            "drwxr-xr-x   2 root root 4096 Jan 15 08:41  Metapod\n",
            "drwxr-xr-x   2 root root 4096 Jan 15 08:41  Mew\n",
            "drwxr-xr-x   2 root root 4096 Jan 15 08:41  Mewtwo\n",
            "drwxr-xr-x   2 root root 4096 Jan 15 08:41  Moltres\n",
            "drwxr-xr-x   2 root root 4096 Jan 15 08:41  MrMime\n",
            "drwxr-xr-x   2 root root 4096 Jan 15 08:41  Muk\n",
            "drwxr-xr-x   2 root root 4096 Jan 15 08:41  Nidoking\n",
            "drwxr-xr-x   2 root root 4096 Jan 15 08:41  Nidoqueen\n",
            "drwxr-xr-x   2 root root 4096 Jan 15 08:41  Nidorina\n",
            "drwxr-xr-x   2 root root 4096 Jan 15 08:41  Nidorino\n",
            "drwxr-xr-x   2 root root 4096 Jan 15 08:41  Ninetales\n",
            "drwxr-xr-x   2 root root 4096 Jan 15 08:41  Oddish\n",
            "drwxr-xr-x   2 root root 4096 Jan 15 08:41  Omanyte\n",
            "drwxr-xr-x   2 root root 4096 Jan 15 08:41  Omastar\n",
            "drwxr-xr-x   2 root root 4096 Jan 15 08:41  Onix\n",
            "drwxr-xr-x   2 root root 4096 Jan 15 08:41  Paras\n",
            "drwxr-xr-x   2 root root 4096 Jan 15 08:41  Parasect\n",
            "drwxr-xr-x   2 root root 4096 Jan 15 08:41  Persian\n",
            "drwxr-xr-x   2 root root 4096 Jan 15 08:41  Pidgeot\n",
            "drwxr-xr-x   2 root root 4096 Jan 15 08:41  Pidgeotto\n",
            "drwxr-xr-x   2 root root 4096 Jan 15 08:41  Pidgey\n",
            "drwxr-xr-x   2 root root 4096 Jan 15 08:41  Pikachu\n",
            "drwxr-xr-x   2 root root 4096 Jan 15 08:41  Pinsir\n",
            "drwxr-xr-x   2 root root 4096 Jan 15 08:41  Poliwag\n",
            "drwxr-xr-x   2 root root 4096 Jan 15 08:41  Poliwhirl\n",
            "drwxr-xr-x   2 root root 4096 Jan 15 08:41  Poliwrath\n",
            "drwxr-xr-x   2 root root 4096 Jan 15 08:41  Ponyta\n",
            "drwxr-xr-x   2 root root 4096 Jan 15 08:41  Porygon\n",
            "drwxr-xr-x   2 root root 4096 Jan 15 08:41  Primeape\n",
            "drwxr-xr-x   2 root root 4096 Jan 15 08:41  Psyduck\n",
            "drwxr-xr-x   2 root root 4096 Jan 15 08:41  Raichu\n",
            "drwxr-xr-x   2 root root 4096 Jan 15 08:41  Rapidash\n",
            "drwxr-xr-x   2 root root 4096 Jan 15 08:41  Raticate\n",
            "drwxr-xr-x   2 root root 4096 Jan 15 08:41  Rattata\n",
            "drwxr-xr-x   2 root root 4096 Jan 15 08:41  Rhydon\n",
            "drwxr-xr-x   2 root root 4096 Jan 15 08:41  Rhyhorn\n",
            "drwxr-xr-x   2 root root 4096 Jan 15 08:41  Sandshrew\n",
            "drwxr-xr-x   2 root root 4096 Jan 15 08:41  Sandslash\n",
            "drwxr-xr-x   2 root root 4096 Jan 15 08:41  Scyther\n",
            "drwxr-xr-x   2 root root 4096 Jan 15 08:41  Seadra\n",
            "drwxr-xr-x   2 root root 4096 Jan 15 08:41  Seaking\n",
            "drwxr-xr-x   2 root root 4096 Jan 15 08:41  Seel\n",
            "drwxr-xr-x   2 root root 4096 Jan 15 08:41  Shellder\n",
            "drwxr-xr-x   2 root root 4096 Jan 15 08:41  Slowbro\n",
            "drwxr-xr-x   2 root root 4096 Jan 15 08:41  Slowpoke\n",
            "drwxr-xr-x   2 root root 4096 Jan 15 08:41  Snorlax\n",
            "drwxr-xr-x   2 root root 4096 Jan 15 08:41  Spearow\n",
            "drwxr-xr-x   2 root root 4096 Jan 15 08:41  Squirtle\n",
            "drwxr-xr-x   2 root root 4096 Jan 15 08:41  Starmie\n",
            "drwxr-xr-x   2 root root 4096 Jan 15 08:41  Staryu\n",
            "drwxr-xr-x   2 root root 4096 Jan 15 08:41  Tangela\n",
            "drwxr-xr-x   2 root root 4096 Jan 15 08:41  Tauros\n",
            "drwxr-xr-x   2 root root 4096 Jan 15 08:41  Tentacool\n",
            "drwxr-xr-x   2 root root 4096 Jan 15 08:41  Tentacruel\n",
            "drwxr-xr-x   2 root root 4096 Jan 15 08:41  Vaporeon\n",
            "drwxr-xr-x   2 root root 4096 Jan 15 08:41  Venomoth\n",
            "drwxr-xr-x   2 root root 4096 Jan 15 08:41  Venonat\n",
            "drwxr-xr-x   2 root root 4096 Jan 15 08:41  Venusaur\n",
            "drwxr-xr-x   2 root root 4096 Jan 15 08:41  Victreebel\n",
            "drwxr-xr-x   2 root root 4096 Jan 15 08:41  Vileplume\n",
            "drwxr-xr-x   2 root root 4096 Jan 15 08:41  Voltorb\n",
            "drwxr-xr-x   2 root root 4096 Jan 15 08:41  Vulpix\n",
            "drwxr-xr-x   2 root root 4096 Jan 15 08:41  Wartortle\n",
            "drwxr-xr-x   2 root root 4096 Jan 15 08:41  Weedle\n",
            "drwxr-xr-x   2 root root 4096 Jan 15 08:41  Weepinbell\n",
            "drwxr-xr-x   2 root root 4096 Jan 15 08:41  Weezing\n",
            "drwxr-xr-x   2 root root 4096 Jan 15 08:41  Wigglytuff\n",
            "drwxr-xr-x   2 root root 4096 Jan 15 08:41  Zapdos\n",
            "drwxr-xr-x   2 root root 4096 Jan 15 08:41  Zubat\n"
          ]
        }
      ]
    },
    {
      "cell_type": "code",
      "source": [
        "import torch\n",
        "import torch.nn as nn\n",
        "import torch.nn.functional as F\n",
        "import torchvision\n",
        "\n",
        "from torchvision.datasets import MNIST, SVHN\n",
        "import torchvision.transforms as T\n",
        "from torch.utils.data import Dataset, DataLoader"
      ],
      "metadata": {
        "id": "JQQ--dGjoV7R"
      },
      "execution_count": null,
      "outputs": []
    },
    {
      "cell_type": "code",
      "source": [
        "import os\n",
        "import shutil\n",
        "from PIL import Image\n",
        "from sklearn.model_selection import train_test_split\n",
        "from tqdm.notebook import tqdm"
      ],
      "metadata": {
        "id": "VV30NCeYoV9w"
      },
      "execution_count": null,
      "outputs": []
    },
    {
      "cell_type": "code",
      "source": [
        "class PockemonDataset(Dataset):\n",
        "\n",
        "  SPLIT_RANDOM_SEED = 42\n",
        "  TEST_SIZE = 0.25\n",
        "\n",
        "\n",
        "\n",
        "  def __init__(self, root, train=True, load_to_ram=True, transform=None):\n",
        "      super().__init__()\n",
        "      self.root = root\n",
        "      self.train = train\n",
        "      self.load_to_ram = load_to_ram\n",
        "      self.transform = transform\n",
        "      self.classes = sorted(os.listdir(self.root))\n",
        "      self.all_files = []\n",
        "      self.all_labels = []\n",
        "      self.images = []\n",
        "\n",
        "      for i, class_name in tqdm(enumerate(self.classes), total=len(self.classes)):\n",
        "        files = sorted(os.listdir(os.path.join(self.root, class_name)))\n",
        "        train_files, test_files = train_test_split(files,\n",
        "                                                   random_state=self.SPLIT_RANDOM_SEED + i,\n",
        "                                                   test_size=self.TEST_SIZE\n",
        "                                                   )\n",
        "        if self.train:\n",
        "          self.all_files += train_files\n",
        "          self.all_labels+=[i]*len(train_files)\n",
        "          if self.load_to_ram:\n",
        "            self.images += self._load_image(train_files, i)\n",
        "\n",
        "\n",
        "        else:\n",
        "          self.all_files += test_files\n",
        "          self.all_labels+=[i]*len(test_files)\n",
        "          if self.load_to_ram:\n",
        "            self.images += self._load_image(test_files, i)\n",
        "\n",
        "\n",
        "  def _load_image(self,image_files, label):\n",
        "    images = []\n",
        "    for filename in image_files:\n",
        "      image = Image.open(os.path.join(self.root, self.classes[label], filename))\n",
        "      images += [image,]\n",
        "\n",
        "    return images\n",
        "\n",
        "\n",
        "\n",
        "\n",
        "  def __len__(self):\n",
        "      return len(self.all_files)\n",
        "\n",
        "  def __getitem__(self, item):\n",
        "\n",
        "      label = self.all_labels[item]\n",
        "\n",
        "      if self.load_to_ram:\n",
        "        image = self.image[item]\n",
        "      else:\n",
        "        filename = self.all_files[item]\n",
        "        image = Image.open(os.path.join(self.root, self.classes[label], filename)).convert('RGB')\n",
        "\n",
        "      if self.transform:\n",
        "        image = self.transform(image)\n",
        "\n",
        "      return image, label\n",
        "\n"
      ],
      "metadata": {
        "id": "Na8Oo_EcoWAH"
      },
      "execution_count": 71,
      "outputs": []
    },
    {
      "cell_type": "code",
      "source": [
        "import glob\n",
        "\n",
        "bad_images = glob.glob('PokemonData/*/*.svg')\n",
        "\n",
        "bad_images"
      ],
      "metadata": {
        "colab": {
          "base_uri": "https://localhost:8080/"
        },
        "id": "CYPqGb9LX_oJ",
        "outputId": "9bc6eaf7-252f-454e-f18e-eacaabb2bb39"
      },
      "execution_count": null,
      "outputs": [
        {
          "output_type": "execute_result",
          "data": {
            "text/plain": [
              "['PokemonData/Venomoth/bb5d47bced6e4e33a77faa17e1eec906.svg',\n",
              " 'PokemonData/Magneton/45e434d002bd44eeb1acbc2decc8ee0f.svg',\n",
              " 'PokemonData/Scyther/a8734f10941a4deb95fcf7388e4fe8e2.svg',\n",
              " 'PokemonData/Golduck/bc08a691e7cb41b0bec2adf931dc9634.svg',\n",
              " 'PokemonData/Dewgong/e3ecbb47e192470aa8686734b7813b43.svg',\n",
              " 'PokemonData/Exeggutor/f29b4f9fccff4055b167ece6556143cd.svg',\n",
              " 'PokemonData/Exeggutor/2b8bc491c5ca4e788999f8ea53617638.svg',\n",
              " 'PokemonData/Tentacruel/d6fb0a3046364ea2b49525c6f6b966e5.svg',\n",
              " 'PokemonData/Omastar/1be6e7da1bba4379b298b20013c57b4b.svg',\n",
              " 'PokemonData/Zapdos/c99b2d19544c4cbbacd7711ade660279.svg',\n",
              " 'PokemonData/Cloyster/ff270ebfab0f46b3b05c3fecd6a15ef9.svg',\n",
              " 'PokemonData/Graveler/3fe3c6a0bbd14de89092d2c675f743c1.svg']"
            ]
          },
          "metadata": {},
          "execution_count": 22
        }
      ]
    },
    {
      "cell_type": "code",
      "source": [
        "for bad_image in bad_images:\n",
        "  os.remove(bad_image)"
      ],
      "metadata": {
        "id": "WcEiQzafY7Gf"
      },
      "execution_count": null,
      "outputs": []
    },
    {
      "cell_type": "code",
      "source": [
        "train_dataset = PockemonDataset(root='PokemonData', train=True, load_to_ram=False)"
      ],
      "metadata": {
        "colab": {
          "base_uri": "https://localhost:8080/",
          "height": 49,
          "referenced_widgets": [
            "b17d6c75fc5b454db2da2af477efb235",
            "e9cb03f64e7c47e3a4fd5ca79f0e7fa2",
            "2c61c99c58b44e8390a50f768146d31e",
            "d9545bf2625a442eb3bd3005d7ad9484",
            "2dc2430e3211483592637e342ccf0090",
            "4116678dce27474e8482e5917bdd3d39",
            "fb0f02ec62164f0c8fedbe36432e2584",
            "cf8d9b66f50147988876c5b78a2c2a0d",
            "65ede1f8e8954bfeb5622695e4d06373",
            "e17b3cf51e384c0da1c16db204eb3419",
            "649c60347e2e4297a52b5e5404692928"
          ]
        },
        "id": "k0714sgfnpto",
        "outputId": "d2479620-a23a-4ff5-af8d-e70986b90b2d"
      },
      "execution_count": 62,
      "outputs": [
        {
          "output_type": "display_data",
          "data": {
            "text/plain": [
              "  0%|          | 0/150 [00:00<?, ?it/s]"
            ],
            "application/vnd.jupyter.widget-view+json": {
              "version_major": 2,
              "version_minor": 0,
              "model_id": "b17d6c75fc5b454db2da2af477efb235"
            }
          },
          "metadata": {}
        }
      ]
    },
    {
      "cell_type": "code",
      "source": [
        "image, label = train_dataset[100]"
      ],
      "metadata": {
        "id": "LpGtW5y8rPCF"
      },
      "execution_count": null,
      "outputs": []
    },
    {
      "cell_type": "code",
      "source": [
        "image"
      ],
      "metadata": {
        "colab": {
          "base_uri": "https://localhost:8080/",
          "height": 289
        },
        "id": "dcQLuOQ5ZsM3",
        "outputId": "3718d1ba-49b1-4464-b86d-619fce5f8be8"
      },
      "execution_count": null,
      "outputs": [
        {
          "output_type": "execute_result",
          "data": {
            "text/plain": [
              "<PIL.JpegImagePlugin.JpegImageFile image mode=RGB size=272x272>"
            ],
            "image/png": "[encoded data removed]"
          },
          "metadata": {},
          "execution_count": 33
        }
      ]
    },
    {
      "cell_type": "code",
      "source": [
        "train_dataset.classes[label]"
      ],
      "metadata": {
        "colab": {
          "base_uri": "https://localhost:8080/",
          "height": 35
        },
        "id": "-ciiEQNXaPOr",
        "outputId": "f2ac368a-d0f4-42cd-f1fb-b99806223576"
      },
      "execution_count": null,
      "outputs": [
        {
          "output_type": "execute_result",
          "data": {
            "text/plain": [
              "'Alolan Sandslash'"
            ],
            "application/vnd.google.colaboratory.intrinsic+json": {
              "type": "string"
            }
          },
          "metadata": {},
          "execution_count": 34
        }
      ]
    },
    {
      "cell_type": "code",
      "source": [
        "len(train_dataset)"
      ],
      "metadata": {
        "colab": {
          "base_uri": "https://localhost:8080/"
        },
        "id": "CYu-nnaiafQ8",
        "outputId": "6da16232-8850-4567-b418-ebfd47a26d27"
      },
      "execution_count": null,
      "outputs": [
        {
          "output_type": "execute_result",
          "data": {
            "text/plain": [
              "5063"
            ]
          },
          "metadata": {},
          "execution_count": 35
        }
      ]
    },
    {
      "cell_type": "code",
      "source": [
        "normalize = T.Normalize(mean=[0.485, 0.456, 0.406], std=[0.229, 0.224, 0.225])\n",
        "\n",
        "train_transform = T.Compose([\n",
        "    T.RandomResizedCrop(224, scale=(0.5, 1.0)),\n",
        "    T.RandomHorizontalFlip(),\n",
        "    T.ToTensor(),\n",
        "    normalize,\n",
        "])\n",
        "\n",
        "test_transform = T.Compose([\n",
        "    T.Resize(256),\n",
        "    T.CenterCrop(224),\n",
        "    T.ToTensor(),\n",
        "    normalize,\n",
        "])"
      ],
      "metadata": {
        "id": "APnB3H-CaSPW"
      },
      "execution_count": 63,
      "outputs": []
    },
    {
      "cell_type": "code",
      "source": [
        "train_dataset = PockemonDataset(root='PokemonData', train=True, load_to_ram=False, transform=train_transform)\n",
        "test_dataset = PockemonDataset(root='PokemonData', train=False, load_to_ram=False, transform=train_transform)"
      ],
      "metadata": {
        "colab": {
          "base_uri": "https://localhost:8080/",
          "height": 81,
          "referenced_widgets": [
            "d11c9f77d46a48e6830c35a850046997",
            "3ec54dab1ad942d1b79bc66bc2701679",
            "e355dfb1b21c4254b759f24575397a47",
            "7818f86f7db140d19c9d05f3892ce471",
            "0870e3f4908145b9a34a1cbe64fead80",
            "b684d0f495504fcebd4512607bc9594c",
            "2d4999e329dc4af3b1c49fdd36f56c5b",
            "a99764cf56f94a3bb8ce08dd905ad648",
            "7c9e1c1980e44545a4dd01328853b505",
            "8f67da0521604b8bb1804ea427cf61bb",
            "55370c2f9d8146eb9eb1ba12ab743517",
            "4b4e6a37bcb54205817267ce856ab9df",
            "4c87e9b8d5754b0386ab8595b5effedb",
            "6193df0cd22d4f86826e88b4cdadeb17",
            "3aca2905b1d94779924a2a2a242e38ea",
            "4f48f2647be84d4ea78431d3542d58ca",
            "a0373879f0614392957e62742bffdfcd",
            "de061fed536c49da8b461763b5e050ac",
            "7de93b0878954ce79a8b62bd43c62e46",
            "42209e35b7d94ac98600fc005c94e106",
            "b16b123b1d884597bb3ec986adc6be2b",
            "6f31b2ae9a28404d85771400cc12870c"
          ]
        },
        "id": "qm8MxKdQavEu",
        "outputId": "608d9309-85db-4e2f-fdf7-d04d7d5bc908"
      },
      "execution_count": 72,
      "outputs": [
        {
          "output_type": "display_data",
          "data": {
            "text/plain": [
              "  0%|          | 0/150 [00:00<?, ?it/s]"
            ],
            "application/vnd.jupyter.widget-view+json": {
              "version_major": 2,
              "version_minor": 0,
              "model_id": "d11c9f77d46a48e6830c35a850046997"
            }
          },
          "metadata": {}
        },
        {
          "output_type": "display_data",
          "data": {
            "text/plain": [
              "  0%|          | 0/150 [00:00<?, ?it/s]"
            ],
            "application/vnd.jupyter.widget-view+json": {
              "version_major": 2,
              "version_minor": 0,
              "model_id": "4b4e6a37bcb54205817267ce856ab9df"
            }
          },
          "metadata": {}
        }
      ]
    },
    {
      "cell_type": "markdown",
      "source": [],
      "metadata": {
        "id": "h8T5bQgKl375"
      }
    },
    {
      "cell_type": "code",
      "source": [
        "train_loader = DataLoader(train_dataset, batch_size=32, shuffle=True, pin_memory=True, num_workers=4)\n",
        "test_loader = DataLoader(test_dataset, batch_size=64, shuffle=True, pin_memory=True, num_workers=4)"
      ],
      "metadata": {
        "colab": {
          "base_uri": "https://localhost:8080/"
        },
        "id": "q6jEYB5FbAwL",
        "outputId": "a3b6dd89-d7c3-43d5-9fcf-f978512093c3"
      },
      "execution_count": 73,
      "outputs": [
        {
          "output_type": "stream",
          "name": "stderr",
          "text": [
            "/usr/local/lib/python3.10/dist-packages/torch/utils/data/dataloader.py:557: UserWarning: This DataLoader will create 4 worker processes in total. Our suggested max number of worker in current system is 2, which is smaller than what this DataLoader is going to create. Please be aware that excessive worker creation might get DataLoader running slow or even freeze, lower the worker number to avoid potential slowness/freeze if necessary.\n",
            "  warnings.warn(_create_warning_msg(\n"
          ]
        }
      ]
    },
    {
      "cell_type": "code",
      "source": [
        "import seaborn as sns\n",
        "import matplotlib.pyplot as plt\n",
        "from IPython.display import clear_output\n",
        "from tqdm.notebook import tqdm\n",
        "\n",
        "\n",
        "sns.set_style('whitegrid')\n",
        "plt.rcParams.update({'font.size': 15})\n",
        "\n",
        "\n",
        "def plot_losses(train_losses, test_losses, train_accuracies, test_accuracies):\n",
        "    clear_output()\n",
        "    fig, axs = plt.subplots(1, 2, figsize=(13, 4))\n",
        "    axs[0].plot(range(1, len(train_losses) + 1), train_losses, label='train')\n",
        "    axs[0].plot(range(1, len(test_losses) + 1), test_losses, label='test')\n",
        "    axs[0].set_ylabel('loss')\n",
        "\n",
        "    axs[1].plot(range(1, len(train_accuracies) + 1), train_accuracies, label='train')\n",
        "    axs[1].plot(range(1, len(test_accuracies) + 1), test_accuracies, label='test')\n",
        "    axs[1].set_ylabel('accuracy')\n",
        "\n",
        "    for ax in axs:\n",
        "        ax.set_xlabel('epoch')\n",
        "        ax.legend()\n",
        "\n",
        "    plt.show()"
      ],
      "metadata": {
        "id": "AKSDg4uxtGM0"
      },
      "execution_count": 66,
      "outputs": []
    },
    {
      "cell_type": "code",
      "source": [
        "def training_epoch(model, optimizer, criterion, train_loader, tqdm_desc):\n",
        "    train_loss, train_accuracy = 0.0, 0.0\n",
        "    model.train()\n",
        "    for images, labels in tqdm(train_loader, desc=tqdm_desc):\n",
        "        images = images.to(device)  # images: batch_size x num_channels x height x width\n",
        "        labels = labels.to(device)  # labels: batch_size\n",
        "\n",
        "        optimizer.zero_grad()\n",
        "        logits = model(images)  # logits: batch_size x num_classes\n",
        "        loss = criterion(logits, labels)\n",
        "        loss.backward()\n",
        "        optimizer.step()\n",
        "\n",
        "        train_loss += loss.item() * images.shape[0]\n",
        "        train_accuracy += (logits.argmax(dim=1) == labels).sum().item()\n",
        "\n",
        "    train_loss /= len(train_loader.dataset)\n",
        "    train_accuracy /= len(train_loader.dataset)\n",
        "    return train_loss, train_accuracy\n",
        "\n",
        "\n",
        "@torch.no_grad()\n",
        "def validation_epoch(model, criterion, test_loader, tqdm_desc):\n",
        "    test_loss, test_accuracy = 0.0, 0.0\n",
        "    model.eval()\n",
        "    for images, labels in tqdm(test_loader, desc=tqdm_desc):\n",
        "        images = images.to(device)  # images: batch_size x num_channels x height x width\n",
        "        labels = labels.to(device)  # labels: batch_size\n",
        "        logits = model(images)  # logits: batch_size x num_classes\n",
        "        loss = criterion(logits, labels)\n",
        "\n",
        "        test_loss += loss.item() * images.shape[0]\n",
        "        test_accuracy += (logits.argmax(dim=1) == labels).sum().item()\n",
        "\n",
        "    test_loss /= len(test_loader.dataset)\n",
        "    test_accuracy /= len(test_loader.dataset)\n",
        "    return test_loss, test_accuracy\n",
        "\n",
        "\n",
        "def train(model, optimizer, scheduler, criterion, train_loader, test_loader, num_epochs):\n",
        "    train_losses, train_accuracies = [], []\n",
        "    test_losses, test_accuracies = [], []\n",
        "\n",
        "    for epoch in range(1, num_epochs + 1):\n",
        "        train_loss, train_accuracy = training_epoch(\n",
        "            model, optimizer, criterion, train_loader,\n",
        "            tqdm_desc=f'Training {epoch}/{num_epochs}'\n",
        "        )\n",
        "        test_loss, test_accuracy = validation_epoch(\n",
        "            model, criterion, test_loader,\n",
        "            tqdm_desc=f'Validating {epoch}/{num_epochs}'\n",
        "        )\n",
        "\n",
        "        if scheduler is not None:\n",
        "            scheduler.step()\n",
        "\n",
        "        train_losses += [train_loss]\n",
        "        train_accuracies += [train_accuracy]\n",
        "        test_losses += [test_loss]\n",
        "        test_accuracies += [test_accuracy]\n",
        "        plot_losses(train_losses, test_losses, train_accuracies, test_accuracies)\n",
        "\n",
        "    return train_losses, test_losses, train_accuracies, test_accuracies"
      ],
      "metadata": {
        "id": "PpPNUe0xfJmJ"
      },
      "execution_count": null,
      "outputs": []
    },
    {
      "cell_type": "code",
      "source": [
        "device = torch.device('cuda:0' if torch.cuda.is_available() else 'cpu')\n",
        "device"
      ],
      "metadata": {
        "id": "txR6c1MR0z2n",
        "outputId": "6144dcb7-ff09-4d33-c729-e84d833b3d30",
        "colab": {
          "base_uri": "https://localhost:8080/"
        }
      },
      "execution_count": null,
      "outputs": [
        {
          "output_type": "execute_result",
          "data": {
            "text/plain": [
              "device(type='cpu')"
            ]
          },
          "metadata": {},
          "execution_count": 50
        }
      ]
    },
    {
      "cell_type": "code",
      "source": [
        "from torchvision.models import mobilenet_v2, MobileNet_V2_Weights\n",
        "\n",
        "num_epochs = 10\n",
        "model = mobilenet_v2(num_classes=len(train_dataset.classes)).to(device)\n",
        "optimizer = torch.optim.SGD(model.parameters(), lr=0.01, momentum=0.9)\n",
        "criterion = torch.nn.CrossEntropyLoss()\n",
        "scheduler = torch.optim.lr_scheduler.CosineAnnealingLR(optimizer, num_epochs)"
      ],
      "metadata": {
        "id": "KtU8QrPt01q1"
      },
      "execution_count": 74,
      "outputs": []
    },
    {
      "cell_type": "code",
      "source": [
        "# model"
      ],
      "metadata": {
        "id": "uMkzg5jJ1NfU"
      },
      "execution_count": 75,
      "outputs": []
    },
    {
      "cell_type": "code",
      "source": [
        "sum(param.numel() for param in model.parameters())"
      ],
      "metadata": {
        "colab": {
          "base_uri": "https://localhost:8080/"
        },
        "id": "BetGrC-q4EXV",
        "outputId": "fe8c25f6-adb2-4175-fc83-bfcf1e1bb802"
      },
      "execution_count": 76,
      "outputs": [
        {
          "output_type": "execute_result",
          "data": {
            "text/plain": [
              "2416022"
            ]
          },
          "metadata": {},
          "execution_count": 76
        }
      ]
    },
    {
      "cell_type": "code",
      "source": [
        "%%time\n",
        "train_losses, test_losses, train_accuracies, test_accuracies = train(\n",
        "    model, optimizer, scheduler, criterion, train_loader, test_loader, num_epochs\n",
        ")"
      ],
      "metadata": {
        "colab": {
          "base_uri": "https://localhost:8080/",
          "height": 49,
          "referenced_widgets": [
            "1d68af9ee6c74bfbabf62e98bbd951ab",
            "e911f7b0433f403abac76d903adf3936",
            "f319f520146c43f69f613c6cd6d72638",
            "90fd888128d3445888300a51f0252b30",
            "b2133db71afd482eb74b198c2ccae88b",
            "939950a94a6048c7932e42354a124dfb",
            "5f26b868b5e44d6281e4c22ddb4dba76",
            "5f84184ae3b64651808f359005b1570b",
            "92f783e811ea4fd1a8210a314ac5fc46",
            "d116c8c98d5f4e07ae05cbd44b46e42f",
            "43a577d44fc8422a826ce022ca0f0445"
          ]
        },
        "id": "kCGS4KDe1SFD",
        "outputId": "d278e3f6-6869-466b-d9ca-f60a1753c084"
      },
      "execution_count": null,
      "outputs": [
        {
          "output_type": "display_data",
          "data": {
            "text/plain": [
              "Training 1/10:   0%|          | 0/159 [00:00<?, ?it/s]"
            ],
            "application/vnd.jupyter.widget-view+json": {
              "version_major": 2,
              "version_minor": 0,
              "model_id": "1d68af9ee6c74bfbabf62e98bbd951ab"
            }
          },
          "metadata": {}
        }
      ]
    },
    {
      "cell_type": "code",
      "source": [],
      "metadata": {
        "id": "0YgD9IoS4R7-"
      },
      "execution_count": null,
      "outputs": []
    }
  ]
}